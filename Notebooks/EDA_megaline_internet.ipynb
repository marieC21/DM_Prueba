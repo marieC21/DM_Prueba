{
 "cells": [
  {
   "cell_type": "code",
   "execution_count": 9,
   "metadata": {},
   "outputs": [],
   "source": [
    "import pandas as pd\n",
    "import numpy as np\n",
    "import seaborn as sns\n",
    "import matplotlib.pyplot as plt"
   ]
  },
  {
   "cell_type": "code",
   "execution_count": 10,
   "metadata": {},
   "outputs": [],
   "source": [
    "# Cargar los datos \n",
    "df_internet = pd.read_csv(\"/Users/chants/Desktop/DM_TEL_cucalon/Data/raw/megaline_internet.csv\")\n",
    "df_usuarios = pd.read_csv(\"/Users/chants/Desktop/DM_TEL_cucalon/Data/raw/megaline_users.csv\")\n",
    "df_calls = pd.read_csv(\"/Users/chants/Desktop/DM_TEL_cucalon/Data/RAW/megaline_calls.csv\")"
   ]
  },
  {
   "cell_type": "code",
   "execution_count": 3,
   "metadata": {},
   "outputs": [
    {
     "name": "stdout",
     "output_type": "stream",
     "text": [
      "<class 'pandas.core.frame.DataFrame'>\n",
      "RangeIndex: 104825 entries, 0 to 104824\n",
      "Data columns (total 4 columns):\n",
      " #   Column        Non-Null Count   Dtype  \n",
      "---  ------        --------------   -----  \n",
      " 0   id            104825 non-null  object \n",
      " 1   user_id       104825 non-null  int64  \n",
      " 2   session_date  104825 non-null  object \n",
      " 3   mb_used       104825 non-null  float64\n",
      "dtypes: float64(1), int64(1), object(2)\n",
      "memory usage: 3.2+ MB\n"
     ]
    }
   ],
   "source": [
    "# Mostrar información general\n",
    "df_internet.info()"
   ]
  },
  {
   "cell_type": "code",
   "execution_count": 11,
   "metadata": {},
   "outputs": [
    {
     "data": {
      "text/html": [
       "<div>\n",
       "<style scoped>\n",
       "    .dataframe tbody tr th:only-of-type {\n",
       "        vertical-align: middle;\n",
       "    }\n",
       "\n",
       "    .dataframe tbody tr th {\n",
       "        vertical-align: top;\n",
       "    }\n",
       "\n",
       "    .dataframe thead th {\n",
       "        text-align: right;\n",
       "    }\n",
       "</style>\n",
       "<table border=\"1\" class=\"dataframe\">\n",
       "  <thead>\n",
       "    <tr style=\"text-align: right;\">\n",
       "      <th></th>\n",
       "      <th>id</th>\n",
       "      <th>user_id</th>\n",
       "      <th>session_date</th>\n",
       "      <th>mb_used</th>\n",
       "    </tr>\n",
       "  </thead>\n",
       "  <tbody>\n",
       "    <tr>\n",
       "      <th>0</th>\n",
       "      <td>1000_13</td>\n",
       "      <td>1000</td>\n",
       "      <td>2018-12-29</td>\n",
       "      <td>89.86</td>\n",
       "    </tr>\n",
       "    <tr>\n",
       "      <th>1</th>\n",
       "      <td>1000_204</td>\n",
       "      <td>1000</td>\n",
       "      <td>2018-12-31</td>\n",
       "      <td>0.00</td>\n",
       "    </tr>\n",
       "    <tr>\n",
       "      <th>2</th>\n",
       "      <td>1000_379</td>\n",
       "      <td>1000</td>\n",
       "      <td>2018-12-28</td>\n",
       "      <td>660.40</td>\n",
       "    </tr>\n",
       "    <tr>\n",
       "      <th>3</th>\n",
       "      <td>1000_413</td>\n",
       "      <td>1000</td>\n",
       "      <td>2018-12-26</td>\n",
       "      <td>270.99</td>\n",
       "    </tr>\n",
       "    <tr>\n",
       "      <th>4</th>\n",
       "      <td>1000_442</td>\n",
       "      <td>1000</td>\n",
       "      <td>2018-12-27</td>\n",
       "      <td>880.22</td>\n",
       "    </tr>\n",
       "  </tbody>\n",
       "</table>\n",
       "</div>"
      ],
      "text/plain": [
       "         id  user_id session_date  mb_used\n",
       "0   1000_13     1000   2018-12-29    89.86\n",
       "1  1000_204     1000   2018-12-31     0.00\n",
       "2  1000_379     1000   2018-12-28   660.40\n",
       "3  1000_413     1000   2018-12-26   270.99\n",
       "4  1000_442     1000   2018-12-27   880.22"
      ]
     },
     "metadata": {},
     "output_type": "display_data"
    }
   ],
   "source": [
    "# Ver primeras filas\n",
    "display(df_internet.head())"
   ]
  },
  {
   "cell_type": "code",
   "execution_count": 12,
   "metadata": {},
   "outputs": [
    {
     "name": "stdout",
     "output_type": "stream",
     "text": [
      "\n",
      "Valores nulos por columna:\n",
      "id              0\n",
      "user_id         0\n",
      "session_date    0\n",
      "mb_used         0\n",
      "dtype: int64\n"
     ]
    }
   ],
   "source": [
    "# Ver valores nulos por columna\n",
    "print(\"\\nValores nulos por columna:\")\n",
    "print(df_internet.isnull().sum())"
   ]
  },
  {
   "cell_type": "code",
   "execution_count": 13,
   "metadata": {},
   "outputs": [
    {
     "name": "stdout",
     "output_type": "stream",
     "text": [
      "\n",
      "Filas duplicadas: 0\n"
     ]
    }
   ],
   "source": [
    "# Ver duplicados\n",
    "print(\"\\nFilas duplicadas:\", df_internet.duplicated().sum())"
   ]
  },
  {
   "cell_type": "code",
   "execution_count": 14,
   "metadata": {},
   "outputs": [
    {
     "data": {
      "text/html": [
       "<div>\n",
       "<style scoped>\n",
       "    .dataframe tbody tr th:only-of-type {\n",
       "        vertical-align: middle;\n",
       "    }\n",
       "\n",
       "    .dataframe tbody tr th {\n",
       "        vertical-align: top;\n",
       "    }\n",
       "\n",
       "    .dataframe thead th {\n",
       "        text-align: right;\n",
       "    }\n",
       "</style>\n",
       "<table border=\"1\" class=\"dataframe\">\n",
       "  <thead>\n",
       "    <tr style=\"text-align: right;\">\n",
       "      <th></th>\n",
       "      <th>user_id</th>\n",
       "      <th>mb_used</th>\n",
       "    </tr>\n",
       "  </thead>\n",
       "  <tbody>\n",
       "    <tr>\n",
       "      <th>count</th>\n",
       "      <td>104825.000000</td>\n",
       "      <td>104825.000000</td>\n",
       "    </tr>\n",
       "    <tr>\n",
       "      <th>mean</th>\n",
       "      <td>1242.496361</td>\n",
       "      <td>366.713701</td>\n",
       "    </tr>\n",
       "    <tr>\n",
       "      <th>std</th>\n",
       "      <td>142.053913</td>\n",
       "      <td>277.170542</td>\n",
       "    </tr>\n",
       "    <tr>\n",
       "      <th>min</th>\n",
       "      <td>1000.000000</td>\n",
       "      <td>0.000000</td>\n",
       "    </tr>\n",
       "    <tr>\n",
       "      <th>25%</th>\n",
       "      <td>1122.000000</td>\n",
       "      <td>136.080000</td>\n",
       "    </tr>\n",
       "    <tr>\n",
       "      <th>50%</th>\n",
       "      <td>1236.000000</td>\n",
       "      <td>343.980000</td>\n",
       "    </tr>\n",
       "    <tr>\n",
       "      <th>75%</th>\n",
       "      <td>1367.000000</td>\n",
       "      <td>554.610000</td>\n",
       "    </tr>\n",
       "    <tr>\n",
       "      <th>max</th>\n",
       "      <td>1499.000000</td>\n",
       "      <td>1693.470000</td>\n",
       "    </tr>\n",
       "  </tbody>\n",
       "</table>\n",
       "</div>"
      ],
      "text/plain": [
       "             user_id        mb_used\n",
       "count  104825.000000  104825.000000\n",
       "mean     1242.496361     366.713701\n",
       "std       142.053913     277.170542\n",
       "min      1000.000000       0.000000\n",
       "25%      1122.000000     136.080000\n",
       "50%      1236.000000     343.980000\n",
       "75%      1367.000000     554.610000\n",
       "max      1499.000000    1693.470000"
      ]
     },
     "metadata": {},
     "output_type": "display_data"
    }
   ],
   "source": [
    "# Estadísticas descriptivas\n",
    "display(df_internet.describe())"
   ]
  },
  {
   "cell_type": "code",
   "execution_count": 15,
   "metadata": {},
   "outputs": [
    {
     "name": "stdout",
     "output_type": "stream",
     "text": [
      "\n",
      "Resumen de outliers:\n",
      "{'user_id': 0, 'mb_used': 424}\n"
     ]
    },
    {
     "data": {
      "image/png": "[encoded data removed]",
      "text/plain": [
       "<Figure size 800x600 with 1 Axes>"
      ]
     },
     "metadata": {},
     "output_type": "display_data"
    }
   ],
   "source": [
    "# Detección de Outliers usando IQR\n",
    "def detect_outliers_iqr(df, column):\n",
    "    Q1 = df[column].quantile(0.25)\n",
    "    Q3 = df[column].quantile(0.75)\n",
    "    IQR = Q3 - Q1\n",
    "    lower_bound = Q1 - 1.5 * IQR\n",
    "    upper_bound = Q3 + 1.5 * IQR\n",
    "    return df[(df[column] < lower_bound) | (df[column] > upper_bound)]\n",
    "\n",
    "outliers_summary = {}\n",
    "for col in df_internet.select_dtypes(include=[np.number]).columns:\n",
    "    outliers = detect_outliers_iqr(df_internet, col)\n",
    "    outliers_summary[col] = len(outliers)\n",
    "\n",
    "print(\"\\nResumen de outliers:\")\n",
    "print(outliers_summary)\n",
    "\n",
    "# Visualización de outliers con boxplot\n",
    "plt.figure(figsize=(8, 6))\n",
    "sns.boxplot(y=df_internet[\"mb_used\"])\n",
    "plt.title(\"Boxplot de MB usados en internet\")\n",
    "plt.ylabel(\"MB usados\")\n",
    "plt.show()"
   ]
  },
  {
   "cell_type": "code",
   "execution_count": 17,
   "metadata": {},
   "outputs": [
    {
     "name": "stdout",
     "output_type": "stream",
     "text": [
      "         id  user_id session_date  mb_used first_name last_name  age  \\\n",
      "0   1000_13     1000   2018-12-29    89.86   Anamaria     Bauer   45   \n",
      "1  1000_204     1000   2018-12-31     0.00   Anamaria     Bauer   45   \n",
      "2  1000_379     1000   2018-12-28   660.40   Anamaria     Bauer   45   \n",
      "3  1000_413     1000   2018-12-26   270.99   Anamaria     Bauer   45   \n",
      "4  1000_442     1000   2018-12-27   880.22   Anamaria     Bauer   45   \n",
      "\n",
      "                                    city    reg_date      plan churn_date  \n",
      "0  Atlanta-Sandy Springs-Roswell, GA MSA  2018-12-24  ultimate        NaN  \n",
      "1  Atlanta-Sandy Springs-Roswell, GA MSA  2018-12-24  ultimate        NaN  \n",
      "2  Atlanta-Sandy Springs-Roswell, GA MSA  2018-12-24  ultimate        NaN  \n",
      "3  Atlanta-Sandy Springs-Roswell, GA MSA  2018-12-24  ultimate        NaN  \n",
      "4  Atlanta-Sandy Springs-Roswell, GA MSA  2018-12-24  ultimate        NaN  \n"
     ]
    }
   ],
   "source": [
    "# Unir df_internet con df_users en base a user_id\n",
    "df_internet_merged = df_internet.merge(df_usuarios, on=\"user_id\", how=\"left\")\n",
    "\n",
    "# Verificar los datos después de la unión\n",
    "print(df_internet_merged.head())\n"
   ]
  },
  {
   "cell_type": "code",
   "execution_count": 18,
   "metadata": {},
   "outputs": [
    {
     "name": "stdout",
     "output_type": "stream",
     "text": [
      "Correlación entre MB usados y edad:\n",
      "           mb_used       age\n",
      "mb_used  1.000000 -0.002515\n",
      "age     -0.002515  1.000000\n"
     ]
    },
    {
     "name": "stderr",
     "output_type": "stream",
     "text": [
      "/var/folders/ws/xnp5l9k56zggyb_d7zfv75rm0000gn/T/ipykernel_8772/2594368903.py:6: FutureWarning: The default of observed=False is deprecated and will be changed to True in a future version of pandas. Pass observed=False to retain current behavior or observed=True to adopt the future default and silence this warning.\n",
      "  df_internet_merged.groupby(pd.cut(df_internet_merged[\"age\"], bins=[18, 30, 40, 50, 60, 80]))[\"mb_used\"].mean()\n"
     ]
    },
    {
     "data": {
      "text/plain": [
       "age\n",
       "(18, 30]    360.713106\n",
       "(30, 40]    371.157056\n",
       "(40, 50]    368.870908\n",
       "(50, 60]    363.309048\n",
       "(60, 80]    369.222417\n",
       "Name: mb_used, dtype: float64"
      ]
     },
     "execution_count": 18,
     "metadata": {},
     "output_type": "execute_result"
    }
   ],
   "source": [
    "# Calcular correlación entre MB usados y edad\n",
    "correlation_age = df_internet_merged[[\"mb_used\", \"age\"]].corr()\n",
    "print(\"Correlación entre MB usados y edad:\\n\", correlation_age)\n",
    "\n",
    "# Comparar la media de MB usados por grupo de edad\n",
    "df_internet_merged.groupby(pd.cut(df_internet_merged[\"age\"], bins=[18, 30, 40, 50, 60, 80]))[\"mb_used\"].mean()"
   ]
  },
  {
   "cell_type": "code",
   "execution_count": 19,
   "metadata": {},
   "outputs": [
    {
     "name": "stdout",
     "output_type": "stream",
     "text": [
      "Top ciudades con mayor uso de MB:\n",
      " city\n",
      "Albany-Schenectady-Troy, NY MSA    525.789962\n",
      "Colorado Springs, CO MSA           509.989767\n",
      "Tulsa, OK MSA                      506.238769\n",
      "Greensboro-High Point, NC MSA      502.926515\n",
      "Buffalo-Cheektowaga, NY MSA        448.047466\n",
      "Baton Rouge, LA MSA                440.805222\n",
      "Fresno, CA MSA                     439.595550\n",
      "Grand Rapids-Kentwood, MI MSA      429.146887\n",
      "Urban Honolulu, HI MSA             424.695793\n",
      "Raleigh-Cary, NC MSA               419.109062\n",
      "Name: mb_used, dtype: float64\n",
      "Top estados con mayor uso de MB:\n",
      " state\n",
      "NC MSA             486.571890\n",
      "HI MSA             424.695793\n",
      "PA-NJ-DE-MD MSA    411.899557\n",
      "MN-WI MSA          411.671616\n",
      "UT MSA             410.290035\n",
      "TN-MS-AR MSA       406.668788\n",
      "LA MSA             404.585432\n",
      "DC-VA-MD-WV MSA    399.677700\n",
      "NY MSA             395.554811\n",
      "KY-IN MSA          389.458152\n",
      "Name: mb_used, dtype: float64\n"
     ]
    }
   ],
   "source": [
    "# Uso de MB por ciudad\n",
    "city_usage = df_internet_merged.groupby(\"city\")[\"mb_used\"].mean().sort_values(ascending=False)\n",
    "print(\"Top ciudades con mayor uso de MB:\\n\", city_usage.head(10))\n",
    "\n",
    "# Uso de MB por estado (extraerlo de la columna de ciudad si es necesario)\n",
    "df_internet_merged[\"state\"] = df_internet_merged[\"city\"].apply(lambda x: x.split(\",\")[-1].strip())\n",
    "state_usage = df_internet_merged.groupby(\"state\")[\"mb_used\"].mean().sort_values(ascending=False)\n",
    "print(\"Top estados con mayor uso de MB:\\n\", state_usage.head(10))"
   ]
  },
  {
   "cell_type": "markdown",
   "metadata": {},
   "source": [
    "Usuarios en Albany y Colorado Springs usan más MB que otros lugares\n",
    "Carolina del Norte (NC) tiene el mayor consumo promedio de MB\n",
    "Ubicación sí influye en el uso de datos"
   ]
  }
 ],
 "metadata": {
  "kernelspec": {
   "display_name": "base",
   "language": "python",
   "name": "python3"
  },
  "language_info": {
   "codemirror_mode": {
    "name": "ipython",
    "version": 3
   },
   "file_extension": ".py",
   "mimetype": "text/x-python",
   "name": "python",
   "nbconvert_exporter": "python",
   "pygments_lexer": "ipython3",
   "version": "3.12.2"
  }
 },
 "nbformat": 4,
 "nbformat_minor": 2
}
