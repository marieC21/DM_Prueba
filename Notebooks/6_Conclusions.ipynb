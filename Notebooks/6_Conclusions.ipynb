{
 "cells": [
  {
   "cell_type": "markdown",
   "metadata": {},
   "source": [
    "\n",
    "\n",
    "Desempeño de otros modelos: Aunque el SGDRegressor y Random Forest también han mostrado buenos resultados, con R² superiores a 0.98, la regresión lineal sigue siendo la opción más precisa en este caso.\n",
    "\n",
    "Factores adicionales: Es importante tener en cuenta que el comportamiento de los datos podría verse afectado por factores temporales, como las fechas festivas. Durante estas fechas, la actividad (como la cantidad de búsquedas o llamadas) podría aumentar significativamente debido a promociones, vacaciones o eventos especiales. Esto puede afectar las predicciones, por lo que es recomendable considerar este factor al evaluar los resultados y ajustar el modelo para tener en cuenta estas fluctuaciones estacionales."
   ]
  }
 ],
 "metadata": {
  "language_info": {
   "name": "python"
  }
 },
 "nbformat": 4,
 "nbformat_minor": 2
}
