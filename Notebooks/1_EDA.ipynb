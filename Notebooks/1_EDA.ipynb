{
 "cells": [
  {
   "cell_type": "code",
   "execution_count": 1,
   "metadata": {},
   "outputs": [],
   "source": [
    "import pandas as pd\n",
    "import numpy as np\n",
    "import seaborn as sns\n",
    "import matplotlib.pyplot as plt"
   ]
  },
  {
   "cell_type": "code",
   "execution_count": 2,
   "metadata": {},
   "outputs": [],
   "source": [
    "# Cargar los datos \n",
    "df_messages = pd.read_csv(\"/Users/chants/Desktop/PruebaDM_cucalon/Data/RAW/megaline_messages.csv\")\n",
    "df_usuarios = pd.read_csv(\"/Users/chants/Desktop/PruebaDM_cucalon/Data/RAW/megaline_users.csv\")\n",
    "df_internet = pd.read_csv(\"/Users/chants/Desktop/PruebaDM_cucalon/Data/RAW/megaline_internet.csv\")\n",
    "df_calls = pd.read_csv(\"/Users/chants/Desktop/PruebaDM_cucalon/Data/RAW/megaline_calls.csv\")\n",
    "df_plans = pd.read_csv(\"/Users/chants/Desktop/PruebaDM_cucalon/Data/RAW/megaline_plans.csv\")"
   ]
  },
  {
   "cell_type": "code",
   "execution_count": 3,
   "metadata": {},
   "outputs": [
    {
     "name": "stdout",
     "output_type": "stream",
     "text": [
      "<class 'pandas.core.frame.DataFrame'>\n",
      "RangeIndex: 76051 entries, 0 to 76050\n",
      "Data columns (total 3 columns):\n",
      " #   Column        Non-Null Count  Dtype \n",
      "---  ------        --------------  ----- \n",
      " 0   id            76051 non-null  object\n",
      " 1   user_id       76051 non-null  int64 \n",
      " 2   message_date  76051 non-null  object\n",
      "dtypes: int64(1), object(2)\n",
      "memory usage: 1.7+ MB\n"
     ]
    }
   ],
   "source": [
    "# Mostrar información general\n",
    "df_messages.info()"
   ]
  },
  {
   "cell_type": "code",
   "execution_count": 4,
   "metadata": {},
   "outputs": [
    {
     "name": "stdout",
     "output_type": "stream",
     "text": [
      "<class 'pandas.core.frame.DataFrame'>\n",
      "RangeIndex: 500 entries, 0 to 499\n",
      "Data columns (total 8 columns):\n",
      " #   Column      Non-Null Count  Dtype \n",
      "---  ------      --------------  ----- \n",
      " 0   user_id     500 non-null    int64 \n",
      " 1   first_name  500 non-null    object\n",
      " 2   last_name   500 non-null    object\n",
      " 3   age         500 non-null    int64 \n",
      " 4   city        500 non-null    object\n",
      " 5   reg_date    500 non-null    object\n",
      " 6   plan        500 non-null    object\n",
      " 7   churn_date  34 non-null     object\n",
      "dtypes: int64(2), object(6)\n",
      "memory usage: 31.4+ KB\n"
     ]
    }
   ],
   "source": [
    "# Mostrar información general\n",
    "df_usuarios.info()"
   ]
  },
  {
   "cell_type": "code",
   "execution_count": 6,
   "metadata": {},
   "outputs": [
    {
     "name": "stdout",
     "output_type": "stream",
     "text": [
      "<class 'pandas.core.frame.DataFrame'>\n",
      "RangeIndex: 104825 entries, 0 to 104824\n",
      "Data columns (total 4 columns):\n",
      " #   Column        Non-Null Count   Dtype  \n",
      "---  ------        --------------   -----  \n",
      " 0   id            104825 non-null  object \n",
      " 1   user_id       104825 non-null  int64  \n",
      " 2   session_date  104825 non-null  object \n",
      " 3   mb_used       104825 non-null  float64\n",
      "dtypes: float64(1), int64(1), object(2)\n",
      "memory usage: 3.2+ MB\n"
     ]
    }
   ],
   "source": [
    "# Mostrar información general\n",
    "df_internet.info()"
   ]
  },
  {
   "cell_type": "code",
   "execution_count": 7,
   "metadata": {},
   "outputs": [
    {
     "name": "stdout",
     "output_type": "stream",
     "text": [
      "<class 'pandas.core.frame.DataFrame'>\n",
      "RangeIndex: 2 entries, 0 to 1\n",
      "Data columns (total 8 columns):\n",
      " #   Column                 Non-Null Count  Dtype  \n",
      "---  ------                 --------------  -----  \n",
      " 0   messages_included      2 non-null      int64  \n",
      " 1   mb_per_month_included  2 non-null      int64  \n",
      " 2   minutes_included       2 non-null      int64  \n",
      " 3   usd_monthly_pay        2 non-null      int64  \n",
      " 4   usd_per_gb             2 non-null      int64  \n",
      " 5   usd_per_message        2 non-null      float64\n",
      " 6   usd_per_minute         2 non-null      float64\n",
      " 7   plan_name              2 non-null      object \n",
      "dtypes: float64(2), int64(5), object(1)\n",
      "memory usage: 260.0+ bytes\n"
     ]
    }
   ],
   "source": [
    "# Mostrar información general\n",
    "df_plans.info()"
   ]
  },
  {
   "cell_type": "code",
   "execution_count": 5,
   "metadata": {},
   "outputs": [
    {
     "name": "stdout",
     "output_type": "stream",
     "text": [
      "<class 'pandas.core.frame.DataFrame'>\n",
      "RangeIndex: 137735 entries, 0 to 137734\n",
      "Data columns (total 4 columns):\n",
      " #   Column     Non-Null Count   Dtype  \n",
      "---  ------     --------------   -----  \n",
      " 0   id         137735 non-null  object \n",
      " 1   user_id    137735 non-null  int64  \n",
      " 2   call_date  137735 non-null  object \n",
      " 3   duration   137735 non-null  float64\n",
      "dtypes: float64(1), int64(1), object(2)\n",
      "memory usage: 4.2+ MB\n"
     ]
    }
   ],
   "source": [
    "# Mostrar información general\n",
    "df_calls.info()"
   ]
  },
  {
   "cell_type": "code",
   "execution_count": 3,
   "metadata": {},
   "outputs": [
    {
     "data": {
      "image/png": "[encoded data removed]",
      "text/plain": [
       "<Figure size 1800x500 with 3 Axes>"
      ]
     },
     "metadata": {},
     "output_type": "display_data"
    },
    {
     "name": "stdout",
     "output_type": "stream",
     "text": [
      "\n",
      "Sesgo en la distribución de cada variable:\n",
      "\n",
      "Internet:\n",
      " - mb_used: 0.66\n",
      "\n",
      "Mensajes:\n",
      " - messages_sent: 0.39\n",
      "\n",
      "Llamadas:\n",
      " - duration: 1.51\n",
      "\n",
      "Resumen de outliers detectados:\n",
      " - Internet: 0 outliers detectados\n",
      " - Mensajes: 0 outliers detectados\n",
      " - Llamadas: 1 outliers detectados\n"
     ]
    }
   ],
   "source": [
    "import pandas as pd\n",
    "import numpy as np\n",
    "import matplotlib.pyplot as plt\n",
    "import seaborn as sns\n",
    "from scipy.stats import skew\n",
    "\n",
    "# Función para calcular el sesgo de una variable\n",
    "def calculate_skewness(df, columns):\n",
    "    skewness_values = {col: skew(df[col].dropna()) for col in columns}\n",
    "    return skewness_values\n",
    "\n",
    "# Función para detectar outliers con IQR\n",
    "def detect_outliers_iqr(df, column):\n",
    "    Q1 = df[column].quantile(0.25)\n",
    "    Q3 = df[column].quantile(0.75)\n",
    "    IQR = Q3 - Q1\n",
    "    lower_bound = Q1 - 1.5 * IQR\n",
    "    upper_bound = Q3 + 1.5 * IQR\n",
    "    return df[(df[column] < lower_bound) | (df[column] > upper_bound)]\n",
    "\n",
    "# Cargar los datasets (simulados)\n",
    "df_internet = pd.DataFrame({\n",
    "    \"user_id\": [1000, 1001, 1002, 1003, 1004, 1005, 1006, 1007],\n",
    "    \"mb_used\": [660.4, 270.99, 880.22, 284.68, 656.04, 1200.3, 2200.7, 1800.9]\n",
    "})\n",
    "\n",
    "df_messages = pd.DataFrame({\n",
    "    \"user_id\": [1000, 1001, 1002, 1003, 1004, 1005],\n",
    "    \"messages_sent\": [50, 500, 300, 700, 90, 1000]\n",
    "})\n",
    "\n",
    "df_calls = pd.DataFrame({\n",
    "    \"user_id\": [1000, 1001, 1002, 1003, 1004, 1005],\n",
    "    \"duration\": [8.52, 25.3, 30.1, 1.5, 0.5, 120.7]\n",
    "})\n",
    "\n",
    "# Calcular el sesgo de cada variable\n",
    "skewness_results = {\n",
    "    \"Internet\": calculate_skewness(df_internet, [\"mb_used\"]),\n",
    "    \"Mensajes\": calculate_skewness(df_messages, [\"messages_sent\"]),\n",
    "    \"Llamadas\": calculate_skewness(df_calls, [\"duration\"])\n",
    "}\n",
    "\n",
    "# Detectar Outliers con IQR en cada dataset\n",
    "outliers_summary = {\n",
    "    \"Internet\": len(detect_outliers_iqr(df_internet, \"mb_used\")),\n",
    "    \"Mensajes\": len(detect_outliers_iqr(df_messages, \"messages_sent\")),\n",
    "    \"Llamadas\": len(detect_outliers_iqr(df_calls, \"duration\")),\n",
    "}\n",
    "\n",
    "# Visualización de Outliers con Boxplots\n",
    "fig, axes = plt.subplots(1, 3, figsize=(18, 5))\n",
    "\n",
    "# Boxplot MB usados\n",
    "sns.boxplot(y=df_internet[\"mb_used\"], ax=axes[0])\n",
    "axes[0].set_title(\"Boxplot de MB usados en Internet\")\n",
    "axes[0].set_ylabel(\"MB usados\")\n",
    "\n",
    "# Boxplot Mensajes enviados\n",
    "sns.boxplot(x=df_messages[\"messages_sent\"], ax=axes[1])\n",
    "axes[1].set_title(\"Boxplot de Cantidad de Mensajes por Usuario\")\n",
    "axes[1].set_xlabel(\"Mensajes enviados\")\n",
    "\n",
    "# Boxplot Duración de llamadas\n",
    "sns.boxplot(y=df_calls[\"duration\"], ax=axes[2])\n",
    "axes[2].set_title(\"Boxplot de Duración de Llamadas\")\n",
    "axes[2].set_ylabel(\"Duración (min)\")\n",
    "\n",
    "plt.show()\n",
    "\n",
    "# Mostrar resultados de sesgo y outliers\n",
    "print(\"\\nSesgo en la distribución de cada variable:\")\n",
    "for category, values in skewness_results.items():\n",
    "    print(f\"\\n{category}:\")\n",
    "    for col, skew_value in values.items():\n",
    "        print(f\" - {col}: {skew_value:.2f}\")\n",
    "\n",
    "print(\"\\nResumen de outliers detectados:\")\n",
    "for category, count in outliers_summary.items():\n",
    "    print(f\" - {category}: {count} outliers detectados\")\n"
   ]
  }
 ],
 "metadata": {
  "kernelspec": {
   "display_name": "base",
   "language": "python",
   "name": "python3"
  },
  "language_info": {
   "codemirror_mode": {
    "name": "ipython",
    "version": 3
   },
   "file_extension": ".py",
   "mimetype": "text/x-python",
   "name": "python",
   "nbconvert_exporter": "python",
   "pygments_lexer": "ipython3",
   "version": "3.12.2"
  }
 },
 "nbformat": 4,
 "nbformat_minor": 2
}
