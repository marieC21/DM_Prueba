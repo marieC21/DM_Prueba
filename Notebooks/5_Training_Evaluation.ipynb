{
 "cells": [
  {
   "cell_type": "code",
   "execution_count": null,
   "metadata": {},
   "outputs": [],
   "source": []
  },
  {
   "cell_type": "code",
   "execution_count": null,
   "metadata": {},
   "outputs": [],
   "source": [
    "from sklearn.linear_model import LinearRegression\n",
    "from sklearn.metrics import mean_absolute_error, mean_squared_error, r2_score\n",
    "\n",
    "# Entrenar el modelo\n",
    "lr_model = LinearRegression()\n",
    "lr_model.fit(X_train, y_train)\n",
    "\n",
    "# Predicciones\n",
    "y_pred = lr_model.predict(X_test)\n",
    "\n",
    "# Evaluar el modelo\n",
    "print(\"📌 Regresión Lineal:\")\n",
    "print(\"MAE:\", mean_absolute_error(y_test, y_pred))\n",
    "print(\"RMSE:\", np.sqrt(mean_squared_error(y_test, y_pred)))\n",
    "print(\"R^2 Score:\", r2_score(y_test, y_pred))\n"
   ]
  },
  {
   "cell_type": "code",
   "execution_count": null,
   "metadata": {},
   "outputs": [],
   "source": [
    "from sklearn.linear_model import SGDRegressor\n",
    "\n",
    "# Modelo de SGD\n",
    "sgd_model = SGDRegressor(max_iter=1000, learning_rate=\"adaptive\", eta0=0.01)\n",
    "sgd_model.fit(X_train, y_train)\n",
    "\n",
    "# Predicciones\n",
    "y_pred_sgd = sgd_model.predict(X_test)\n",
    "\n",
    "# Evaluación\n",
    "print(\"\\n📌 Stochastic Gradient Descent:\")\n",
    "print(\"MAE:\", mean_absolute_error(y_test, y_pred_sgd))\n",
    "print(\"RMSE:\", np.sqrt(mean_squared_error(y_test, y_pred_sgd)))\n",
    "print(\"R^2 Score:\", r2_score(y_test, y_pred_sgd))\n"
   ]
  },
  {
   "cell_type": "code",
   "execution_count": null,
   "metadata": {},
   "outputs": [],
   "source": [
    "from sklearn.ensemble import RandomForestRegressor\n",
    "\n",
    "rf_model = RandomForestRegressor(n_estimators=100, random_state=42)\n",
    "rf_model.fit(X_train, y_train)\n",
    "\n",
    "y_pred_rf = rf_model.predict(X_test)\n",
    "\n",
    "print(\"\\n📌 Random Forest:\")\n",
    "print(\"MAE:\", mean_absolute_error(y_test, y_pred_rf))\n",
    "print(\"RMSE:\", np.sqrt(mean_squared_error(y_test, y_pred_rf)))\n",
    "print(\"R^2 Score:\", r2_score(y_test, y_pred_rf))\n"
   ]
  },
  {
   "cell_type": "code",
   "execution_count": null,
   "metadata": {},
   "outputs": [],
   "source": [
    "from xgboost import XGBRegressor\n",
    "\n",
    "xgb_model = XGBRegressor(n_estimators=100, learning_rate=0.05)\n",
    "xgb_model.fit(X_train, y_train)\n",
    "\n",
    "y_pred_xgb = xgb_model.predict(X_test)\n",
    "\n",
    "print(\"\\n📌 XGBoost:\")\n",
    "print(\"MAE:\", mean_absolute_error(y_test, y_pred_xgb))\n",
    "print(\"RMSE:\", np.sqrt(mean_squared_error(y_test, y_pred_xgb)))\n",
    "print(\"R^2 Score:\", r2_score(y_test, y_pred_xgb))\n"
   ]
  },
  {
   "cell_type": "code",
   "execution_count": null,
   "metadata": {},
   "outputs": [
    {
     "name": "stdout",
     "output_type": "stream",
     "text": [
      "\n",
      "📌 Regresión Lineal:\n",
      "MAE: 3.9936587023503556e-16\n",
      "RMSE: 5.099490311407965e-16\n",
      "R² Score: 1.0\n",
      "\n",
      "📌 SGDRegressor:\n",
      "MAE: 0.007501561754277984\n",
      "RMSE: 0.010776510637363247\n",
      "R² Score: 0.9967744924404107\n",
      "\n",
      "📌 Random Forest:\n",
      "MAE: 0.005591053923567616\n",
      "RMSE: 0.024046449366866694\n",
      "R² Score: 0.9839400696445141\n",
      "\n",
      "🚀 El mejor modelo es: Regresión Lineal con MAE: 3.9936587023503556e-16\n"
     ]
    }
   ],
   "source": [
    "import pandas as pd\n",
    "import numpy as np\n",
    "from sklearn.model_selection import train_test_split\n",
    "from sklearn.preprocessing import StandardScaler\n",
    "from sklearn.linear_model import LinearRegression, SGDRegressor\n",
    "from sklearn.ensemble import RandomForestRegressor\n",
    "from sklearn.metrics import mean_absolute_error, mean_squared_error, r2_score\n",
    "\n",
    "#  Directorio de la carpeta CLEAN\n",
    "clean_path = \"/Users/chants/Desktop/DM_TEL_cucalon/Data/ml/\"\n",
    "\n",
    "#  --- CARGAR LOS DATOS ---\n",
    "features = pd.read_csv(clean_path + \"features_dataset.csv\")\n",
    "\n",
    "#  --- SEPARAR VARIABLES ---\n",
    "X = features.drop(columns=[\"user_id\", \"total_cost_mean\"])  # Variables predictoras\n",
    "y = features[\"total_cost_mean\"]  # Variable objetivo\n",
    "\n",
    "#  --- SEPARAR DATOS EN TRAIN Y TEST ---\n",
    "X_train, X_test, y_train, y_test = train_test_split(X, y, test_size=0.2, random_state=42)\n",
    "\n",
    "#  --- ESCALAR LOS DATOS ---\n",
    "scaler = StandardScaler()\n",
    "X_train = scaler.fit_transform(X_train)\n",
    "X_test = scaler.transform(X_test)\n",
    "\n",
    "#  --- FUNCION PARA ENTRENAR Y EVALUAR MODELOS ---\n",
    "def evaluar_modelo(modelo, X_train, y_train, X_test, y_test, nombre):\n",
    "    modelo.fit(X_train, y_train)\n",
    "    y_pred = modelo.predict(X_test)\n",
    "\n",
    "    print(f\"\\n {nombre}:\")\n",
    "    print(\"MAE:\", mean_absolute_error(y_test, y_pred))\n",
    "    print(\"RMSE:\", np.sqrt(mean_squared_error(y_test, y_pred)))\n",
    "    print(\"R² Score:\", r2_score(y_test, y_pred))\n",
    "\n",
    "    return modelo, mean_absolute_error(y_test, y_pred)  # Retorna el modelo y su MAE para comparación\n",
    "\n",
    "#  --- ENTRENAR Y EVALUAR MODELOS ---\n",
    "modelos = {\n",
    "    \"Regresión Lineal\": LinearRegression(),\n",
    "    \"SGDRegressor\": SGDRegressor(max_iter=1000, learning_rate=\"adaptive\", eta0=0.01),\n",
    "    \"Random Forest\": RandomForestRegressor(n_estimators=100, random_state=42)\n",
    "}\n",
    "\n",
    "resultados = {}\n",
    "\n",
    "for nombre, modelo in modelos.items():\n",
    "    modelo_entrenado, mae = evaluar_modelo(modelo, X_train, y_train, X_test, y_test, nombre)\n",
    "    resultados[nombre] = mae\n",
    "\n",
    "# --- SELECCIONAR EL MEJOR MODELO ---\n",
    "mejor_modelo = min(resultados, key=resultados.get)\n",
    "print(f\"\\n El mejor modelo es: {mejor_modelo} con MAE: {resultados[mejor_modelo]}\")\n"
   ]
  }
 ],
 "metadata": {
  "kernelspec": {
   "display_name": "base",
   "language": "python",
   "name": "python3"
  },
  "language_info": {
   "codemirror_mode": {
    "name": "ipython",
    "version": 3
   },
   "file_extension": ".py",
   "mimetype": "text/x-python",
   "name": "python",
   "nbconvert_exporter": "python",
   "pygments_lexer": "ipython3",
   "version": "3.12.2"
  }
 },
 "nbformat": 4,
 "nbformat_minor": 2
}
